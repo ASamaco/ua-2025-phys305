{
 "cells": [
  {
   "cell_type": "markdown",
   "id": "0",
   "metadata": {
    "editable": true,
    "slideshow": {
     "slide_type": ""
    }
   },
   "source": [
    "# Fourier Transform and Spectral Analyses"
   ]
  },
  {
   "cell_type": "markdown",
   "id": "1",
   "metadata": {},
   "source": [
    "## Introduction\n",
    "\n",
    "The Fourier Transform is a fundamental tool in computational astrophysics and many other fields of science and engineering.\n",
    "It allows for the decomposition of complex functions or signals into sums of sinusoidal components, facilitating the analysis of their frequency content.\n",
    "This capability is essential for understanding various phenomena, from the distribution of matter in the universe to the behavior of signals received from distant astronomical objects."
   ]
  },
  {
   "cell_type": "markdown",
   "id": "2",
   "metadata": {},
   "source": [
    "The development of the Fast Fourier Transform (FFT) algorithm significantly advanced computational methods in the 20th century.\n",
    "The FFT reduces the computational complexity of performing Fourier Transforms from $\\mathcal{O}(N^2)$ to $\\mathcal{O}(N \\log N)$, enabling efficient processing of large datasets typical in astronomical observations and simulations.\n",
    "Its applications include:\n",
    "\n",
    "* Communication Systems:\n",
    "  * Signal Processing: Fundamental in digital communication for encoding and decoding signals, allowing efficient data transmission over various frequencies without interference.\n",
    "  * Compression: Techniques like MP3 (audio) and JPEG (image) rely on Fourier Transform methods to compress data by transforming signals into frequency components and discarding less significant ones.\n",
    "    \n",
    "* Radar and Sonar:\n",
    "  * Object Detection: Helps interpret reflected electromagnetic or sound waves to determine the distance, speed, and characteristics of objects, crucial for navigation, meteorology, and defense.\n",
    "  * Doppler Shifts: Analyzing frequency shifts in returned signals enables calculation of the velocity of moving objects.\n",
    "    \n",
    "* Astronomy:\n",
    "  * Spectroscopy: Used to analyze light spectra from celestial objects, determining their composition, temperature, velocity, and other properties.\n",
    "  * Imaging: Employed in reconstructing images from interferometric data, enhancing resolution beyond the limitations of individual telescopes.\n",
    "  * Very Long Baseline Interferometry (VLBI): Combines data from multiple telescopes across vast distances to simulate a telescope the size of Earth, relying on Fourier analysis to synthesize high-resolution images of distant astronomical sources."
   ]
  },
  {
   "cell_type": "markdown",
   "id": "3",
   "metadata": {},
   "source": [
    "### Historical Context and the Heat Equation\n",
    "\n",
    "The origins of Fourier analysis trace back to the early 19th century with the work of Jean-Baptiste Joseph Fourier (1768–1830), a French mathematician and physicist.\n",
    "While studying heat flow, Fourier introduced the revolutionary idea that any periodic function could be expressed as an infinite sum of sine and cosine functions—known today as the Fourier Series.\n",
    "\n",
    "The one-dimensional heat equation is:\n",
    "\\begin{align}\n",
    "\\frac{\\partial u(x,t)}{\\partial t} = \\alpha \\frac{\\partial^2 u(x,t)}{\\partial x^2},\n",
    "\\end{align}\n",
    "where $u(x,t)$ is the temperature distribution along a rod at position $x$ and time $t$, and $\\alpha$ is the thermal diffusivity constant of the material."
   ]
  },
  {
   "cell_type": "markdown",
   "id": "4",
   "metadata": {},
   "source": [
    "### Solution Using Separation of Variables\n",
    "\n",
    "We use the method of separation of variables to solve the heat equation, which involves assuming the solution can be written as a product of functions, each depending only on a single variable:\n",
    "\\begin{align}\n",
    "u(x,t) = X(x) T(t).\n",
    "\\end{align}\n",
    "Substituting into the heat equation:\n",
    "\\begin{align}\n",
    "X(x) \\frac{dT(t)}{dt} = \\alpha T(t) \\frac{d^2 X(x)}{dx^2}.\n",
    "\\end{align}\n",
    "Dividing both sides by $X(x) T(t)$, we obtain:\n",
    "\\begin{align}\n",
    "\\frac{1}{T(t)} \\frac{dT(t)}{dt} = \\alpha \\frac{1}{X(x)} \\frac{d^2 X(x)}{dx^2}.\n",
    "\\end{align}"
   ]
  },
  {
   "cell_type": "markdown",
   "id": "5",
   "metadata": {},
   "source": [
    "Since the left side depends only on $t$ and the right side only on $x$, both sides must equal a constant $-\\lambda$:\n",
    "\\begin{align}\n",
    "\\frac{1}{T(t)} \\frac{dT(t)}{dt} = -\\lambda = \\alpha \\frac{1}{X(x)} \\frac{d^2 X(x)}{dx^2}.\n",
    "\\end{align}\n",
    "This yields two ordinary differential equations (ODEs):\n",
    "1. Temporal Equation: $\\frac{dT(t)}{dt} + \\lambda T(t) = 0$.\n",
    "2. Spatial Equation: $\\frac{d^2 X(x)}{dx^2} + \\frac{\\lambda}{\\alpha} X(x) = 0$."
   ]
  },
  {
   "cell_type": "markdown",
   "id": "6",
   "metadata": {},
   "source": [
    "The general solution to the spatial equation is:\n",
    "\\begin{align}\n",
    "X(x) = A \\sin(kx) + B \\cos(kx),\n",
    "\\end{align}\n",
    "where $k^2 = \\lambda / \\alpha$.\n",
    "This form of solution originates from the second-order derivative.\n",
    "\n",
    "Assuming Dirichlet boundary conditions for a rod of length $L$:\n",
    "\\begin{align}\n",
    "u(0,t) = u(L,t) = 0,\n",
    "\\end{align}\n",
    "we find:\n",
    "* At $x = 0$, $X(0) = 0 \\implies B = 0$.\n",
    "* At $x = L$, non-trivial solutions ($A \\neq 0$) require:\n",
    "  \\begin{align}\n",
    "  \\sin(kL) = 0 \\implies kL = n\\pi, \\quad n = 1,2,3,\\dots\n",
    "  \\end{align}\n",
    "\n",
    "Thus, the \"eigenvalues\" are:\n",
    "\\begin{align}\n",
    "k_n = \\frac{n\\pi}{L},\n",
    "\\end{align}\n",
    "and the eigenfunctions are:\n",
    "\\begin{align}\n",
    "X_n(x) = \\sin\\left( \\frac{n\\pi x}{L} \\right).\n",
    "\\end{align}"
   ]
  },
  {
   "cell_type": "markdown",
   "id": "7",
   "metadata": {},
   "source": [
    "With $\\lambda_n = \\alpha k_n^2$, the temporal ODE becomes:\n",
    "\\begin{align}\n",
    "\\frac{dT_n(t)}{dt} + \\alpha \\left( \\frac{n\\pi}{L} \\right)^2 T_n(t) = 0,\n",
    "\\end{align}\n",
    "with solution:\n",
    "\\begin{align}\n",
    "T_n(t) = C_n \\exp\\left[ -\\alpha \\left( \\frac{n\\pi}{L} \\right)^2 t \\right].\n",
    "\\end{align}"
   ]
  },
  {
   "cell_type": "markdown",
   "id": "8",
   "metadata": {},
   "source": [
    "Combining spatial and temporal parts and realizing the heat equation is linear, the general solution is the sum of all solutions:\n",
    "\\begin{align}\n",
    "u(x,t) = \\sum_{n=1}^\\infty C_n \\sin\\left( \\frac{n\\pi x}{L} \\right) \\exp\\left[ -\\alpha \\left( \\frac{n\\pi}{L} \\right)^2 t \\right],\n",
    "\\end{align}\n",
    "and the coefficients $C_n$ are determined from the initial condition $u(x,0) = f(x)$:\n",
    "\\begin{align}\n",
    "C_n = \\frac{2}{L} \\int_0^L f(x) \\sin\\left( \\frac{n\\pi x}{L} \\right) dx.\n",
    "\\end{align}\n",
    "This represents the Fourier sine series expansion of $f(x)$."
   ]
  },
  {
   "cell_type": "markdown",
   "id": "9",
   "metadata": {},
   "source": [
    "## Fourier Series: Foundation and Interpretation\n",
    "\n",
    "In many physical systems, including those encountered in astrophysics, functions describing phenomena are often periodic or can be approximated as such over certain intervals.\n",
    "The Fourier Series provides a powerful method to represent these periodic functions as infinite sums of simpler sinusoidal functions—sines and cosines.\n",
    "This enables us to break down complex periodic functions and simplifies analysis and computation.\n",
    "\n",
    "Since many physical systems can be described by harmonic components, the Fourier Series naturally enables physical interpretation.\n",
    "In astrophysics, signals received from observations can be decomposed to analyze their frequency content.\n",
    "\n",
    "A function $f(x)$ is said to be periodic with period $L$ if:\n",
    "\\begin{align}\n",
    "f(x + L) = f(x) \\quad \\text{for all } x.\n",
    "\\end{align}\n",
    "\n",
    "Any reasonably well-behaved, periodic function $f(x)$ with period $L$ can be expressed as a Fourier Series:\n",
    "\\begin{align}\n",
    "f(x) = \\frac{A_0}{2} + \\sum_{n=1}^\\infty \\left[ A_n \\cos\\left( \\frac{2n\\pi x}{L} \\right) + B_n \\sin\\left( \\frac{2n\\pi x}{L} \\right) \\right].\n",
    "\\end{align}\n",
    "$A_n$ and $B_n$ are the Fourier coefficients, which quantify the contribution of each harmonic component.\n",
    "\n",
    "The coefficients are calculated using the orthogonality properties of sine and cosine functions:\n",
    "\\begin{align}\n",
    "A_n &= \\frac{2}{L} \\int_{-L/2}^{L/2} f(x) \\cos\\left( \\frac{2n\\pi x}{L} \\right) dx, \\quad n = 0,1,2,\\dots \\\\\n",
    "B_n &= \\frac{2}{L} \\int_{-L/2}^{L/2} f(x) \\sin\\left( \\frac{2n\\pi x}{L} \\right) dx, \\quad n = 1,2,3,\\dots\n",
    "\\end{align}"
   ]
  },
  {
   "cell_type": "markdown",
   "id": "10",
   "metadata": {},
   "source": [
    "### Inner Products and Hilbert Spaces\n",
    "\n",
    "An inner product in a function space is a generalization of the dot product from finite-dimensional vector spaces to infinite-dimensional spaces of functions.\n",
    "For functions $f(x)$ and $g(x)$ defined over an interval $[a, b]$, the inner product is defined as:\n",
    "\\begin{align}\n",
    "\\langle f, g \\rangle = \\int_a^b f(x) g^*(x) \\, dx,\n",
    "\\end{align}\n",
    "where $g^*(x)$ denotes the complex conjugate of $g(x)$.\n",
    "\n",
    "The sine and cosine functions used in the Fourier Series form an orthogonal (and can be normalized to be orthonormal) set with respect to this inner product:\n",
    "\\begin{align}\n",
    "  \\left\\langle \\cos\\left( \\frac{2n\\pi x}{L} \\right), \\cos\\left( \\frac{2m\\pi x}{L} \\right) \\right\\rangle =\n",
    "  \\begin{cases}\n",
    "    0,   & n \\ne m, \\\\\n",
    "    L/2, & n = m,\n",
    "  \\end{cases}\n",
    "\\end{align}\n",
    "and similarly for the sine functions.\n",
    "\n",
    "A Hilbert space is a complete vector space equipped with an inner product.\n",
    "Functions that are square-integrable over a given interval form a Hilbert space, denoted as $L^2([a, b])$.\n",
    "The Fourier Series represents functions in $L^2$ as infinite linear combinations of orthonormal basis functions.\n",
    "\n",
    "By projecting a function onto the orthonormal basis of sines and cosines, we obtain the Fourier coefficients, which serve as the \"coordinates\" of the function in this function space.\n",
    "Thus, the Fourier Series can be viewed as a coordinate transformation from the \"time\" or \"spatial\" domain to the \"frequency\" or \"wavenumber\" domain.\n",
    "This transformation is analogous to expressing a vector in terms of its components along orthogonal axes in finite-dimensional space."
   ]
  },
  {
   "cell_type": "markdown",
   "id": "11",
   "metadata": {},
   "source": [
    "### Example\n",
    "\n",
    "Consider a square wave function defined over the interval $[-L/2, L/2)$:\n",
    "\\begin{align}\n",
    "  f(x) =\n",
    "  \\begin{cases}\n",
    "     1, & 0 < x < L/2, \\\\\n",
    "    -1, & -L/2 < x < 0.\n",
    "  \\end{cases}\n",
    "\\end{align}\n",
    "\n",
    "The Fourier coefficients for this function can be computed using the integrals above.\n",
    "Due to the function's odd symmetry, only sine terms are present (i.e., $A_n = 0$).\n",
    "The Fourier coefficients $B_n$ are:\n",
    "\\begin{align}\n",
    "  B_n = \\frac{4}{n\\pi}\n",
    "  \\begin{cases}\n",
    "    0, & \\text{even } n, \\\\\n",
    "    1, & \\text{odd } n.\n",
    "  \\end{cases}\n",
    "\\end{align}\n",
    "This series expansion demonstrates how complex functions can be represented as infinite sums of simple orthogonal functions.\n",
    "\n",
    "We can implement the Fourier Series representation of functions using Python.\n",
    "We compute the Fourier coefficients numerically and reconstruct the original function from these coefficients."
   ]
  },
  {
   "cell_type": "code",
   "execution_count": 2,
   "id": "12",
   "metadata": {},
   "outputs": [],
   "source": [
    "import numpy as np\n",
    "import matplotlib.pyplot as plt\n",
    "\n",
    "def f(x, L):\n",
    "    return np.where((x % L) < L/2, 1, -1)\n",
    "\n",
    "def f_approx(x, L, N):\n",
    "    fsum = np.zeros_like(x)\n",
    "    for n in range(1, N + 1, 2):  # sum over odd n\n",
    "        B = 4 / (n * np.pi)\n",
    "        fsum += B * np.sin(2 * n * np.pi * x / L)\n",
    "    return fsum"
   ]
  },
  {
   "cell_type": "code",
   "execution_count": 3,
   "id": "13",
   "metadata": {},
   "outputs": [
    {
     "data": {
      "image/png": "[encoded data removed]",
      "text/plain": [
       "<Figure size 1000x600 with 1 Axes>"
      ]
     },
     "metadata": {},
     "output_type": "display_data"
    }
   ],
   "source": [
    "L  = 2 * np.pi # Period is 2 pi\n",
    "xi = np.linspace(-L/2, L/2, 1000)\n",
    "\n",
    "# Plotting\n",
    "plt.figure(figsize=(10, 6))\n",
    "\n",
    "# Original function\n",
    "fi = f(xi, L)\n",
    "plt.plot(xi, fi, label='Square Wave', color='k')\n",
    "\n",
    "# Fourier series approximation\n",
    "N = list(range(5,100,5))\n",
    "for n in N[:5]:\n",
    "    fi_n = f_approx(xi, L, n)\n",
    "    plt.plot(xi, fi_n, label=f'Fourier Series Approximation (N={n})')\n",
    "\n",
    "plt.xlabel('x')\n",
    "plt.ylabel('f(x)')\n",
    "plt.legend()\n",
    "plt.grid(True)"
   ]
  },
  {
   "cell_type": "markdown",
   "id": "14",
   "metadata": {},
   "source": [
    "Near points of discontinuity in the function (e.g., the jumps in a square wave), the Fourier series overshoots the function's value.\n",
    "This overshoot does not diminish as more terms are added;\n",
    "instead, the maximum overshoot approaches a finite limit ($\\sim 9\\%$ of the jump's magnitude).\n",
    "This is known as the Gibbs Phenomenon."
   ]
  },
  {
   "cell_type": "markdown",
   "id": "15",
   "metadata": {},
   "source": [
    "## Implementing Fourier Series in Python\n",
    "\n",
    "We will implement the Fourier Series representation of functions using Python.\n",
    "We will compute the Fourier coefficients numerically and reconstruct the original function from these coefficients."
   ]
  },
  {
   "cell_type": "code",
   "execution_count": null,
   "id": "16",
   "metadata": {},
   "outputs": [],
   "source": [
    "def An(f, x, L, n):\n",
    "    I = f(x) * np.cos(2 * n * np.pi * x / L)\n",
    "    return (2 / L) * np.trapezoid(I, x)\n",
    "\n",
    "def Bn(f, x, L, n):\n",
    "    I = f(x) * np.sin(2 * n * np.pi * x / L)\n",
    "    return (2 / L) * np.trapezoid(I, x)"
   ]
  },
  {
   "cell_type": "code",
   "execution_count": null,
   "id": "17",
   "metadata": {},
   "outputs": [],
   "source": [
    "def Fourier_coefficients(f, x, L, N):\n",
    "    A = [An(f, x, L, n) for n in range(0, N)]\n",
    "    B = [Bn(f, x, L, n) for n in range(0, N)]\n",
    "    return A, B"
   ]
  },
  {
   "cell_type": "code",
   "execution_count": null,
   "id": "18",
   "metadata": {},
   "outputs": [],
   "source": [
    "def Fourier_series(A, B, L, x):\n",
    "    fsum = (A[0]/2) * np.ones_like(x)\n",
    "    for n, An in enumerate(A[1:],1):\n",
    "        fsum += An * np.cos(2 * n * np.pi * x / L)\n",
    "    for n, Bn in enumerate(B[1:],1):\n",
    "        fsum += Bn * np.sin(2 * n * np.pi * x / L)\n",
    "    return fsum"
   ]
  },
  {
   "cell_type": "markdown",
   "id": "19",
   "metadata": {},
   "source": [
    "Now, we can obtain Fourier series numerically using arbitrary functions."
   ]
  },
  {
   "cell_type": "code",
   "execution_count": null,
   "id": "20",
   "metadata": {},
   "outputs": [],
   "source": [
    "def f(x): # closure on L\n",
    "    a = -L/2\n",
    "    b =  L/2\n",
    "    x = (x - a) % (b - a) + a\n",
    "    return np.exp(-x*x*32)\n",
    "\n",
    "xi = np.linspace(-L/2, L/2, 10_000)\n",
    "A, B = Fourier_coefficients(f, xi, L, 100)"
   ]
  },
  {
   "cell_type": "code",
   "execution_count": null,
   "id": "21",
   "metadata": {},
   "outputs": [],
   "source": [
    "plt.figure(figsize=(10, 6))\n",
    "\n",
    "# Original function\n",
    "xi = np.linspace(-L, L, 20_000)\n",
    "fi = f(xi)\n",
    "plt.plot(xi, fi, color='k', label='Original function')\n",
    "\n",
    "# Fourier series approximation\n",
    "N    = list(range(5,100,5))\n",
    "fi_N = [Fourier_series(A[:n], B[:n], L, xi) for n in N]\n",
    "for n, fi_n in list(zip(N, fi_N))[:5]:\n",
    "    plt.plot(xi, fi_n, label=f'Fourier Series Approximation (N={n})')\n",
    "\n",
    "plt.xlabel('x')\n",
    "plt.ylabel('f(x)')\n",
    "plt.legend()\n",
    "plt.grid(True)"
   ]
  },
  {
   "cell_type": "markdown",
   "id": "22",
   "metadata": {},
   "source": [
    "### Error Analysis\n",
    "\n",
    "We can quantify how the approximation improves with $N$ by calculating the Mean Squared Error (MSE) between the original function and its Fourier series approximation."
   ]
  },
  {
   "cell_type": "code",
   "execution_count": null,
   "id": "23",
   "metadata": {},
   "outputs": [],
   "source": [
    "def mse(f, f_N):\n",
    "    df = (f - f_N)\n",
    "    return np.sqrt(np.mean(df * df))\n",
    "\n",
    "errs = []\n",
    "for fi_n in fi_N:\n",
    "    errs.append(mse(fi, fi_n))\n",
    "\n",
    "plt.loglog(N, errs, label='Error')\n",
    "plt.loglog(N, 1/np.array(N), label=r'$N^{-1}$')\n",
    "plt.legend()"
   ]
  },
  {
   "cell_type": "markdown",
   "id": "24",
   "metadata": {},
   "source": [
    "Try adjust different functions and observe how the errors behave."
   ]
  },
  {
   "cell_type": "markdown",
   "id": "25",
   "metadata": {},
   "source": [
    "## Complex Fourier Series\n",
    "\n",
    "It is often convenient to combine the sine and cosine in the Fourier series into a single exponential term using Euler's formula:\n",
    "\\begin{align}\n",
    "e^{i\\theta} = \\cos(\\theta) + i\\sin(\\theta).\n",
    "\\end{align}\n",
    "Therefore,\n",
    "\\begin{align}\n",
    "\\cos(\\theta) &= \\frac{e^{i\\theta} + e^{-i\\theta}}{2}, \\\\\n",
    "\\sin(\\theta) &= \\frac{e^{i\\theta} - e^{-i\\theta}}{2i}.\n",
    "\\end{align}\n",
    "Substituting these into the definition of the Fourier series, we obtain the Complex Fourier Series:\n",
    "\\begin{align}\n",
    "f(x) = \\sum_{n=-\\infty}^{\\infty} C_n e^{i n \\omega_1 x},\n",
    "\\end{align}\n",
    "where $\\omega_1 = 2\\pi/L$ is the fundamental angular frequency.\n",
    "\n",
    "The complex coefficients $C_n$ are given by:\n",
    "\\begin{align}\n",
    "C_n = \\frac{1}{L} \\int_{-L/2}^{L/2} f(x) e^{-i n \\omega_1 x} dx.\n",
    "\\end{align}\n",
    "\n",
    "```{admonition} Exercises\n",
    "What are the relationship between the complex Fourier coefficients $C_n$ and the Fourier series coefficients $A_n$ and $B_n$?\n",
    "```\n",
    "\n",
    "If $f(x)$ is purely real, then the complex Fourier coefficients satisfy the conjugate symmetry:\n",
    "\\begin{align}\n",
    "C_{-n} = C_n^*,\n",
    "\\end{align}\n",
    "where $C_n^*$ denotes the complex conjugate of $C_n$.\n",
    "This property, sometimes referred as Hermitian, Hermit symmetry, or conjugate symmetry, ensures that the Fourier series representation remains real-valued.\n",
    "\n",
    "```{admonition} Exercises\n",
    "Demonstrate the Hermit symmetry using the relationship between the complex Fourier coefficients $C_n$ and the Fourier series coefficients $A_n$ and $B_n$ derived above.\n",
    "```\n",
    "\n",
    "In the context of complex Fourier series, the functions $\\exp(i n \\omega_1 x)$ form an orthonormal set under the inner product:\n",
    "\\begin{align}\n",
    "\\langle e^{i n \\omega_1 x}, e^{i m \\omega_1 x} \\rangle = \\int_{-L/2}^{L/2} e^{i n \\omega_1 x} e^{-i m \\omega_1 x} dx = L \\delta_{n m},\n",
    "\\end{align}\n",
    "where $\\delta_{n m}$ is the Kronecker delta function.\n",
    "\n",
    "The Fourier coefficients $C_n$ are obtained by projecting $f(x)$ onto these orthonormal basis functions, analogous to finding the components of a vector along orthogonal axes.\n",
    "Thus, the Fourier series expansion is a coordinate transformation from the function space to the space spanned by the basis functions $\\exp(i n \\omega_1 x)$."
   ]
  },
  {
   "cell_type": "markdown",
   "id": "26",
   "metadata": {},
   "source": [
    "## Transition to Fourier Transform\n",
    "\n",
    "In the previous sections, we explored how periodic functions can be represented as sums of sines and cosines using Fourier Series.\n",
    "However, many functions of interest in physics and engineering are not periodic or are defined over an infinite domain.\n",
    "To analyze such functions, we need to extend the concept of Fourier Series to the Fourier Transform.\n",
    "\n",
    "### From Discrete to Continuous Spectrum\n",
    "\n",
    "For a function $f(x)$ with period $L$, the Fourier Series has discrete frequencies $\\omega_n = 2n\\pi/L \\equiv n \\omega_1$.\n",
    "\n",
    "As the period $L$ becomes infinitely large ($L \\rightarrow \\infty$), the spacing between the frequencies in the Fourier Series becomes infinitesimally small, turning the sum into an integral:\n",
    "\\begin{align}\n",
    "\\sum_{n=-\\infty}^{\\infty} \\rightarrow\n",
    "\\int_{-\\infty}^{\\infty} \\frac{d\\omega}{\\omega_1}.\n",
    "\\end{align}\n",
    "\n",
    "The discrete set of frequencies $\\omega_n$ becomes a continuous variable $\\omega$.\n",
    "This limit leads us to the Fourier Transform, which represents non-periodic functions defined over the entire real line.\n",
    "\n",
    "### Complex Fourier Transform Definitions\n",
    "\n",
    "The Fourier Transform $F(\\omega)$ of a function $f(x)$ is defined as:\n",
    "\\begin{align}\n",
    "F(\\omega) = \\int_{-\\infty}^{\\infty} f(x) e^{-i \\omega x} dx.\n",
    "\\end{align}\n",
    "The Inverse Fourier Transform is:\n",
    "\\begin{align}\n",
    "f(x) = \\frac{1}{2\\pi} \\int_{-\\infty}^{\\infty} F(\\omega) e^{i \\omega x} d\\omega.\n",
    "\\end{align}\n",
    "These equations allow us to transform a time-domain function $f(x)$ into its frequency-domain representation $F(\\omega)$, and vice versa.\n",
    "\n",
    "If $f(x)$ is real-valued, then $F(-\\omega) = F^*(\\omega)$, similar to the Fourier series case.\n",
    "This property ensures that the inverse transform yields a real function.\n",
    "\n",
    "In the context of the Fourier Transform, the inner product between two functions $f(x)$ and $g(x)$ over the entire real line is:\n",
    "\\begin{align}\n",
    "\\langle f, g \\rangle = \\int_{-\\infty}^{\\infty} f(x) g^*(x) \\, dx.\n",
    "\\end{align}\n",
    "The functions $e^{i \\omega x}$ form an orthogonal set with respect to this inner product.\n",
    "As a result, similar to the Fourier Series, the Fourier Transform can be seen as projecting $f(x)$ onto the infinite-dimensional basis of complex exponentials $e^{i \\omega x}$.\n",
    "The transform coefficients $F(\\omega)$ represent the \"coordinates\" of $f(x)$ in the frequency domain."
   ]
  },
  {
   "cell_type": "markdown",
   "id": "27",
   "metadata": {},
   "source": [
    "## Sampling Theory and Discrete Fourier Transform (DFT)\n",
    "\n",
    "In this section, we delve into the implications of sampling continuous signals, introduce the Nyquist Sampling Theorem, explore the phenomenon of aliasing, and explain the role of the Discrete Fourier Transform (DFT) in analyzing discrete signals.\n",
    "For clarity, we will switch our notation from $f(x)$ to $f(t)$, emphasizing the temporal aspect of signals.\n",
    "\n",
    "### Sampling Continuous Signals\n",
    "\n",
    "When working with real-world signals, we often need to convert continuous signals into discrete ones for digital processing.\n",
    "This conversion is achieved through sampling, where a continuous signal $f(t)$ is measured at discrete intervals.\n",
    "The distinction between continuous and discrete signals is fundamental:\n",
    "\n",
    "* Continuous Signal: A function $f(t)$ defined for all real values of $t$.\n",
    "* Discrete Signal:   A sequence of values $f_n = f(n T_s)$, where $T_s$ is the sampling interval (the time between samples) and $n$ is an integer index.\n",
    "\n",
    "The sampling frequency $f_s$ is the reciprocal of the sampling interval, $f_s = \\frac{1}{T_s}$, and the sampling angular frequency is $\\omega_s = 2\\pi f_s$.\n",
    "\n",
    "Understanding how to sample a continuous signal without losing essential information is critical.\n",
    "If the sampling rate is too low, important details in the signal may be missed, leading to errors in analysis."
   ]
  },
  {
   "cell_type": "markdown",
   "id": "28",
   "metadata": {},
   "source": [
    "### The Nyquist Sampling Theorem\n",
    "\n",
    "The Nyquist Sampling Theorem provides a criterion for the minimum sampling rate required to reconstruct a continuous signal from its samples without loss of information.\n",
    "It states:\n",
    "\n",
    "A band-limited continuous-time signal with maximum frequency $f_{\\text{max}}$ can be perfectly reconstructed from its samples if the sampling frequency $f_s$ is greater than twice the maximum frequency of the signal:\n",
    "\\begin{align}\n",
    "f_s > 2 f_{\\text{max}},\n",
    "\\end{align}\n",
    "where the Nyquist Rate is the minimum sampling rate required, $f_{\\text{Nyquist}} = 2 f_{\\text{max}}$; and the Nyquist Frequency is half the sampling frequency, $f_{\\text{Nyquist}} = \\frac{f_s}{2}$.\n",
    "\n",
    "Sampling above the Nyquist rate ensures that high-frequency components of the signal do not overlap (a phenomenon known as aliasing), which would cause distortion and loss of information.\n",
    "Under ideal conditions, if a signal is band-limited (contains no frequencies higher than $f_{\\text{max}}$), sampling it at a rate higher than the Nyquist rate allows for perfect reconstruction of the original continuous signal from its discrete samples."
   ]
  },
  {
   "cell_type": "markdown",
   "id": "29",
   "metadata": {},
   "source": [
    "### Aliasing Errors\n",
    "\n",
    "Aliasing occurs when a continuous signal is sampled at a rate insufficient to capture its changes accurately.\n",
    "This under-sampling causes different frequency components to become indistinguishable in the sampled signal.\n",
    "High-frequency components (above the Nyquist frequency) are effectively \"folded\" back into lower frequencies, leading to distortion.\n",
    "\n",
    "To visualize aliasing, consider the following example:"
   ]
  },
  {
   "cell_type": "code",
   "execution_count": null,
   "id": "30",
   "metadata": {},
   "outputs": [],
   "source": [
    "# Parameters\n",
    "f_signal = 3  # Frequency of the original signal in Hz\n",
    "f_alias  = 1  # Aliased frequency in Hz (due to undersampling)\n",
    "f_s      = 4  # Sampling frequency in Hz (below Nyquist rate)\n",
    "t_end    = 2  # Duration in seconds\n",
    "\n",
    "# Time arrays\n",
    "t_cont = np.linspace(0, t_end, 1000) # Continuous time\n",
    "t_s = np.arange(0, t_end, 1 / f_s)   # Discrete sampling times\n",
    "\n",
    "# Signals\n",
    "x_cont  = np.sin(2 * np.pi * f_signal * t_cont)  # Original continuous signal\n",
    "x_alias =-np.sin(2 * np.pi * f_alias  * t_cont)  # Aliased signal for comparison\n",
    "x_s     = np.sin(2 * np.pi * f_signal * t_s)     # Sampled signal\n",
    "\n",
    "# Plotting\n",
    "plt.figure(figsize=(12, 6))\n",
    "plt.plot(t_cont, x_cont,  label='Original Signal (3 Hz)',      color='blue')\n",
    "plt.plot(t_cont, x_alias, label='Aliased Signal (1 Hz)',       color='orange', linestyle='--')\n",
    "plt.scatter(t_s, x_s,     label=f'Sampled Points at {f_s} Hz', color='red', zorder=5)\n",
    "\n",
    "plt.xlabel('Time [s]')\n",
    "plt.ylabel('Amplitude')\n",
    "plt.legend()\n",
    "plt.grid(True)"
   ]
  },
  {
   "cell_type": "markdown",
   "id": "31",
   "metadata": {},
   "source": [
    "In this example, the original signal at 3 Hz is sampled at 4 Hz, which is below the Nyquist rate of 6 Hz (twice the signal frequency).\n",
    "The sampled points misrepresent the original signal, making it appear as if it has a frequency of 1 Hz.\n",
    "This misrepresentation is the essence of aliasing."
   ]
  },
  {
   "cell_type": "markdown",
   "id": "32",
   "metadata": {},
   "source": [
    "## Discrete Fourier Transform (DFT)\n",
    "\n",
    "When working with digital signals, especially in computational astrophysics and signal processing, we often deal with discrete data rather than continuous functions.\n",
    "The Discrete Fourier Transform (DFT) is a mathematical tool that allows us to analyze the frequency content of discrete signals.\n",
    "It transforms a finite sequence of equally spaced samples of a function into a sequence of complex numbers representing the signal's frequency spectrum."
   ]
  },
  {
   "cell_type": "markdown",
   "id": "33",
   "metadata": {},
   "source": [
    "### Definition of the DFT\n",
    "\n",
    "Given a sequence of $N$ complex numbers $f_n$, where $n = 0, 1, 2, \\dots, N-1$, the Discrete Fourier Transform $F_k$ is defined as:\n",
    "\\begin{align}\n",
    "F_k = \\sum_{n=0}^{N-1} f_n \\, e^{-i 2\\pi k n / N}, \\quad \\text{for } k = 0, 1, 2, \\dots, N-1.\n",
    "\\end{align}\n",
    "\n",
    "Here, $F_k$ represents the amplitude and phase of the $k$-th frequency component of the signal.\n",
    "The inverse DFT, which allows us to reconstruct the original signal from its frequency components, is given by:\n",
    "\\begin{align}\n",
    "f_n = \\frac{1}{N} \\sum_{k=0}^{N-1} F_k \\, e^{i 2\\pi k n / N}, \\quad \\text{for } n = 0, 1, 2, \\dots, N-1.\n",
    "\\end{align}"
   ]
  },
  {
   "cell_type": "markdown",
   "id": "34",
   "metadata": {},
   "source": [
    "### Properties of the DFT\n",
    "\n",
    "Understanding the properties of the DFT is crucial for effectively applying it to signal analysis:\n",
    "\n",
    "* Periodicity: Both the input sequence $f_n$ and the output sequence $F_k$ are periodic with period $N$.\n",
    "  This means that $f_{n+N} = f_n$ and $F_{k+N} = F_k$ for all integers $n$ and $k$.\n",
    "  The periodicity arises from the finite length of the sequences and the assumption that they represent one period of a periodic signal.\n",
    "\n",
    "* Orthogonality: The set of complex exponentials $e^{-i 2\\pi k n / N}$ used in the DFT are orthogonal over the interval $n = 0, 1, \\dots, N-1$.\n",
    "  This orthogonality allows the DFT to decompose the signal into independent frequency components, analogous to how the Fourier Series decomposes continuous periodic functions.\n",
    "\n",
    "* Linearity: The DFT is a linear transformation.\n",
    "  If $f_n$ and $g_n$ are sequences and $a$ and $b$ are scalars, then the DFT of $a f_n + b g_n$ is $a F_k + b G_k$, where $F_k$ and $G_k$ are the DFTs of $f_n$ and $g_n$, respectively.\n",
    "\n",
    "* Energy Conservation (Parseval's Theorem, see below): The total energy of the signal is preserved between the time domain and the frequency domain.\n",
    "  Specifically, the sum of the squares of the magnitudes of the time-domain samples equals $1/N$ times the sum of the squares of the magnitudes of the frequency-domain coefficients."
   ]
  },
  {
   "cell_type": "markdown",
   "id": "35",
   "metadata": {},
   "source": [
    "### Implementing the DFT in Python\n",
    "\n",
    "To gain a deeper understanding of how the DFT works, we can implement it directly in Python.\n",
    "Although practical applications use optimized algorithms like the Fast Fourier Transform (FFT), implementing the DFT from scratch helps illustrate the underlying computations.\n",
    "\n",
    "Here is a simple implementation:"
   ]
  },
  {
   "cell_type": "code",
   "execution_count": null,
   "id": "36",
   "metadata": {},
   "outputs": [],
   "source": [
    "def DFT(f):\n",
    "    N = len(f)\n",
    "    F = np.zeros(N, dtype=complex)\n",
    "    for k in range(N):\n",
    "        for n in range(N):\n",
    "            F[k] += f[n] * np.exp(-2j * np.pi * k * n / N)\n",
    "    return F"
   ]
  },
  {
   "cell_type": "markdown",
   "id": "37",
   "metadata": {},
   "source": [
    "In this function, we compute each frequency component $F_k$ by summing over all time-domain samples $f_n$, weighted by the complex exponential basis functions.\n",
    "The nested loops result in a computational complexity of $\\mathcal{O}(N^2)$, which is acceptable for small $N$ but inefficient for large datasets.\n",
    "\n",
    "Let's apply the DFT to analyze a discrete signal composed of a single sine wave:"
   ]
  },
  {
   "cell_type": "code",
   "execution_count": null,
   "id": "38",
   "metadata": {},
   "outputs": [],
   "source": [
    "# Signal parameters\n",
    "f_signal = 5   # Frequency in Hz\n",
    "f_s      = 50  # Sampling frequency in Hz\n",
    "N        = 100 # Number of samples\n",
    "\n",
    "# Time vector\n",
    "t = np.arange(N) / f_s\n",
    "\n",
    "# Signal generation\n",
    "f = np.sin(2 * np.pi * f_signal * t)\n",
    "\n",
    "# Compute the DFT\n",
    "F = DFT(f)\n",
    "\n",
    "# Frequency vector\n",
    "freq = np.fft.fftfreq(N, d=1/f_s)\n",
    "\n",
    "# Plotting\n",
    "plt.figure(figsize=(10, 6))\n",
    "plt.stem(freq[:N // 2], np.abs(F[:N // 2])*(2/N), basefmt=\" \")\n",
    "plt.xlabel('Frequency [Hz]')\n",
    "plt.ylabel('Amplitude')\n",
    "plt.grid(True)"
   ]
  },
  {
   "cell_type": "markdown",
   "id": "39",
   "metadata": {},
   "source": [
    "In this example, the magnitude spectrum shows a peak at 5 Hz, corresponding to the frequency of the sine wave in the signal.\n",
    "This confirms that the DFT correctly identifies the dominant frequency component.\n",
    "\n",
    "Note: We multiply the magnitude by $2 / N$ to normalize the amplitude, accounting for the scaling factors in the DFT and plotting only the positive frequencies."
   ]
  },
  {
   "cell_type": "markdown",
   "id": "40",
   "metadata": {},
   "source": [
    "### The DFT as a Linear Transformation\n",
    "\n",
    "The DFT can also be expressed in matrix form, highlighting its nature as a linear transformation from the time domain to the frequency domain.\n",
    "In matrix notation:\n",
    "\\begin{align}\n",
    "\\mathbf{F} = \\mathbf{W} \\mathbf{f},\n",
    "\\end{align}\n",
    "where\n",
    "$\\mathbf{f}$ is the column vector of input samples $f_n$,\n",
    "$\\mathbf{F}$ is the column vector of DFT coefficients $F_k$, and\n",
    "$\\mathbf{W}$ is the DFT matrix, whose elements are $W_{k n} = e^{-2\\pi i k n / N}$.\n",
    "\n",
    "Implementing the DFT using matrix multiplication in Python:"
   ]
  },
  {
   "cell_type": "code",
   "execution_count": null,
   "id": "41",
   "metadata": {},
   "outputs": [],
   "source": [
    "def DFT_matrix(N):\n",
    "    n = np.arange(N)\n",
    "    k = n.reshape((N, 1))\n",
    "    W = np.exp(-2j * np.pi * k * n / N)\n",
    "    return W\n",
    "\n",
    "# Compute DFT using matrix multiplication\n",
    "W = DFT_matrix(N)"
   ]
  },
  {
   "cell_type": "code",
   "execution_count": null,
   "id": "42",
   "metadata": {},
   "outputs": [],
   "source": [
    "F_matrix = np.dot(W, f)\n",
    "\n",
    "# Plotting\n",
    "plt.figure(figsize=(10, 6))\n",
    "plt.stem(freq[:N // 2], np.abs(F_matrix[:N // 2])*(2/N), basefmt=\" \")\n",
    "plt.xlabel('Frequency [Hz]')\n",
    "plt.ylabel('Amplitude')\n",
    "plt.grid(True)"
   ]
  },
  {
   "cell_type": "markdown",
   "id": "43",
   "metadata": {},
   "source": [
    "This method produces the same result as the direct computation but is also computationally intensive with $\\mathcal{O}(N^2)$ complexity.\n",
    "The matrix representation is useful for theoretical analysis and understanding properties of the DFT, such as its eigenvalues and eigenvectors."
   ]
  },
  {
   "cell_type": "markdown",
   "id": "44",
   "metadata": {},
   "source": [
    "### Aliasing in the DFT\n",
    "\n",
    "An important consideration when applying the DFT is the effect of aliasing.\n",
    "Due to the finite sampling rate, the DFT interprets the sampled signal as being periodic with period $N T_s$.\n",
    "If the original continuous signal contains frequency components higher than the Nyquist frequency ($f_{\\text{Nyquist}} = f_s/2$), these components are reflected back into lower frequencies in the DFT output.\n",
    "This phenomenon is known as aliasing.\n",
    "\n",
    "Aliasing can lead to misleading results, as high-frequency components masquerade as lower frequencies in the analyzed data.\n",
    "It is crucial to ensure that the signal is properly band-limited before sampling or to use appropriate anti-aliasing filters.\n",
    "\n",
    "To prevent aliasing, an anti-aliasing filter is applied to the continuous signal before sampling.\n",
    "This filter is typically a low-pass filter that attenuates frequency components above the Nyquist frequency, ensuring that the sampled signal does not contain frequencies that could cause aliasing.\n",
    "In hardware, analog filters are used for this purpose, conditioning the signal prior to digitization.\n",
    "\n",
    "Another approach to preventing aliasing is to sample at a rate significantly higher than the Nyquist rate, a practice known as oversampling.\n",
    "Oversampling provides a buffer against aliasing by increasing the Nyquist frequency.\n",
    "Additionally, adaptive sampling techniques can adjust the sampling rate based on the signal's frequency content, sampling more rapidly when high-frequency components are present."
   ]
  },
  {
   "cell_type": "markdown",
   "id": "45",
   "metadata": {},
   "source": [
    "## Fast Fourier Transform (FFT) and Computational Efficiency\n",
    "\n",
    "The Discrete Fourier Transform (DFT) is a fundamental tool for analyzing discrete signals in the frequency domain.\n",
    "However, its direct computation is computationally intensive, with a complexity of $\\mathcal{O}(N^2)$, where $N$ is the number of data points.\n",
    "This quadratic scaling becomes impractical for large datasets commonly encountered in computational astrophysics, such as those generated by telescopes or large-scale simulations.\n",
    "\n",
    "To overcome this limitation, the Fast Fourier Transform (FFT) algorithm was developed.\n",
    "The FFT revolutionized signal processing by reducing the computational complexity of computing the DFT from $\\mathcal{O}(N^2)$ to $\\mathcal{O}(N \\log N)$.\n",
    "This dramatic improvement enables efficient processing of large datasets, making the FFT an indispensable tool in various scientific and engineering fields."
   ]
  },
  {
   "cell_type": "markdown",
   "id": "46",
   "metadata": {},
   "source": [
    "### Historical Background of the FFT\n",
    "\n",
    "While the FFT algorithm gained widespread recognition after the publication by James Cooley and John Tukey in 1965, the fundamental ideas behind it date back much further.\n",
    "Remarkably, the mathematician Carl Friedrich Gauss discovered an early version of the FFT as early as 1805.\n",
    "Gauss developed efficient methods for interpolating asteroid orbits, which involved computations similar to the FFT, although his work remained unpublished in this context until much later.\n",
    "\n",
    "Over the years, several mathematicians and engineers independently discovered and rediscovered the FFT algorithm.\n",
    "It wasn't until Cooley and Tukey's seminal paper that the FFT became widely known and appreciated for its computational advantages.\n",
    "Their work sparked a revolution in digital signal processing and had a profound impact on many fields, including astrophysics, communications, and image processing."
   ]
  },
  {
   "cell_type": "markdown",
   "id": "47",
   "metadata": {},
   "source": [
    "### Understanding the FFT Algorithm\n",
    "\n",
    "The key idea behind the FFT is to exploit symmetries and redundancies in the DFT calculations to reduce the number of computations required.\n",
    "Specifically, the FFT algorithm employs a divide and conquer strategy, recursively breaking down a DFT of size $N$ into smaller DFTs, thereby minimizing redundant calculations.\n",
    "\n",
    "Consider the DFT of a sequence $f_n$ of length $N$:\n",
    "\\begin{align}\n",
    "F_k = \\sum_{n=0}^{N-1} f_n e^{-i 2\\pi k n / N}, \\quad k = 0, 1, \\dots, N-1.\n",
    "\\end{align}\n",
    "\n",
    "If $N$ is even, we can separate the sum into even and odd indexed terms:\n",
    "\\begin{align}\n",
    "F_k &= \\sum_{n=0}^{N/2 -1} f_{2n} e^{-i 2\\pi k (2n) / N} + \\sum_{n=0}^{N/2 -1} f_{2n+1} e^{-i 2\\pi k (2n+1) / N} \\\\\n",
    "    &= \\sum_{n=0}^{N/2 -1} f_{2n} e^{-i 2\\pi k n / (N/2)} + e^{-i 2\\pi k / N} \\sum_{n=0}^{N/2 -1} f_{2n+1} e^{-i 2\\pi k n / (N/2)}.\n",
    "\\end{align}\n",
    "\n",
    "This decomposition reveals that the DFT of size $N$ can be expressed in terms of two DFTs of size $N/2$, one for the even-indexed samples $f_{2n}$ and one for the odd-indexed samples $f_{2n+1}$.\n",
    "This recursive approach can be applied repeatedly until the DFTs are reduced to size 1, at which point the computation is trivial.\n",
    "\n",
    "By reusing the results of smaller DFTs and exploiting the periodicity and symmetry properties of the complex exponential functions, the FFT algorithm significantly reduces the total number of computations from $\\mathcal{O}(N^2)$ to $\\mathcal{O}(N \\log_2 N)$.\n",
    "\n",
    "The computational savings provided by the FFT are substantial, especially for large $N$.\n",
    "For example, if $N = 1,000,000$:\n",
    "* Direct DFT: Approximately $10^{12}$ operations.\n",
    "* FFT: Approximately $20,000,000$ operations.\n",
    "This reduction makes the FFT practical for large datasets, enabling real-time signal processing and efficient analysis of astronomical data."
   ]
  },
  {
   "cell_type": "markdown",
   "id": "48",
   "metadata": {},
   "source": [
    "### Performance of DFT vs. FFT\n",
    "\n",
    "Modern programming languages and scientific computing libraries provide optimized implementations of the FFT algorithm.\n",
    "In Python, the numpy library includes the fft module, which offers fast and reliable FFT computations.\n",
    "\n",
    "Let's compare the performance of our naive DFT implementation with the optimized FFT provided by numpy:"
   ]
  },
  {
   "cell_type": "code",
   "execution_count": null,
   "id": "49",
   "metadata": {},
   "outputs": [],
   "source": [
    "from numpy.fft import fft, ifft\n",
    "import time\n",
    "\n",
    "signal_lengths = [2**n for n in range(6, 16)]\n",
    "\n",
    "dft_times = []\n",
    "fft_times = []\n",
    "\n",
    "for N in signal_lengths:\n",
    "    f = np.random.random(N)\n",
    "\n",
    "    # Time DFT\n",
    "    if N <= 2048:\n",
    "        start_time = time.time()\n",
    "        F = DFT(f)\n",
    "        dft_times.append(time.time() - start_time)\n",
    "\n",
    "    # Time FFT\n",
    "    start_time = time.time()\n",
    "    F = fft(f)\n",
    "    fft_times.append(time.time() - start_time)\n",
    "\n",
    "# Plotting the results\n",
    "plt.figure(figsize=(10, 6))\n",
    "plt.loglog(signal_lengths[:len(dft_times)], dft_times, label='DFT Time', marker='o')\n",
    "plt.loglog(signal_lengths, fft_times, label='FFT Time', marker='o')\n",
    "\n",
    "plt.xlabel('Signal Length N')\n",
    "plt.ylabel('Time [seconds]')\n",
    "plt.legend()\n",
    "plt.grid(True)"
   ]
  },
  {
   "cell_type": "markdown",
   "id": "50",
   "metadata": {},
   "source": [
    "The plot clearly shows that the FFT is orders of magnitude faster than the direct DFT implementation, even for relatively small $N$.\n",
    "As $N$ increases, the performance gap widens significantly."
   ]
  },
  {
   "cell_type": "markdown",
   "id": "51",
   "metadata": {},
   "source": [
    "### Variations and Generalizations of the FFT\n",
    "\n",
    "While we have discussed the radix-2 FFT algorithm, which requires $N$ to be a power of two, there are other variations of the FFT that handle sequences of arbitrary length:\n",
    "* Mixed-Radix FFT: Handles composite sizes by factoring $N$ into smaller integers (radices), such as 2, 3, 5, etc., and applying the FFT recursively.\n",
    "* Prime Factor FFT: Used when $N$ can be factored into coprime integers, exploiting the Chinese Remainder Theorem.\n",
    "* Bluestein's Algorithm (Chirp Z-Transform): Computes the DFT for any $N$ by converting it into a convolution problem.\n",
    "These algorithms extend the applicability of the FFT to a wide range of problems and data sizes, making it a versatile tool in computational practice."
   ]
  },
  {
   "cell_type": "markdown",
   "id": "52",
   "metadata": {},
   "source": [
    "### Impact of the FFT on Computational Astrophysics\n",
    "\n",
    "The FFT has had a profound impact on computational astrophysics and related fields.\n",
    "Its ability to efficiently process large datasets enables:\n",
    "* Signal Analysis: Detection of periodic signals in time-series data, such as pulsar timing and variable star observations.\n",
    "* Image Processing: Enhancement and restoration of astronomical images, including deconvolution and filtering.\n",
    "* Simulation Analysis: Analysis of simulation data in cosmology and fluid dynamics, where spectral methods are used to solve differential equations."
   ]
  },
  {
   "cell_type": "markdown",
   "id": "53",
   "metadata": {},
   "source": [
    "## Convolution and Correlation\n",
    "\n",
    "Convolution and correlation are fundamental operations in signal processing and computational astrophysics, allowing us to analyze how signals interact and to measure the similarity between signals.\n",
    "These operations are closely related mathematically and have profound implications when analyzed in the frequency domain, especially through their respective theorems involving the Fourier Transform.\n",
    "Understanding their similarities and differences is crucial for leveraging their full potential in practical applications.\n",
    "\n",
    "Both convolution and correlation involve integrating (or summing, in the discrete case) the product of two functions, one of which is shifted in time or space.\n",
    "The key difference lies in how the functions are shifted and whether one of them is reversed."
   ]
  },
  {
   "cell_type": "markdown",
   "id": "54",
   "metadata": {},
   "source": [
    "### Convolution and Correlation\n",
    "\n",
    "For continuous functions $f(t)$ and $g(t)$, the convolution $h(t)$ is defined as:\n",
    "\\begin{align}\n",
    "h(t) = (f * g)(t)\n",
    "    &= \\int_{-\\infty}^{\\infty} f(\\tau) \\, g(t - \\tau) \\, d\\tau \\\\\n",
    "    &= \\int_{-\\infty}^{\\infty} f(t - \\tau) \\, g(\\tau) \\, d\\tau.\n",
    "\\end{align}\n",
    "\n",
    "In the discrete case, for sequences $f_n$ and $g_n$, the convolution is:\n",
    "\\begin{align}\n",
    "h_n = (f * g)_n = \\sum_{m=0}^{N-1} f_m \\, g_{n - m}.\n",
    "\\end{align}\n",
    "\n",
    "Convolution computes the amount of overlap between $f$ and a reversed and shifted version of $g$.\n",
    "It effectively \"slides\" the function $g(t)$ over $f(t)$, multiplying and integrating at each position.\n",
    "\n",
    "Correlation measures the similarity between two functions as one is shifted over the other, without reversing.\n",
    "The cross-correlation $C_{fg}(t)$ of continuous functions $f(t)$ and $g(t)$ is defined as:\n",
    "\\begin{align}\n",
    "C_{fg}(t) = (f \\star g)(t)\n",
    "         &= \\int_{-\\infty}^{\\infty} f^*(\\tau) \\, g(\\tau + t) \\, d\\tau \\\\\n",
    "         &= \\int_{-\\infty}^{\\infty} f^*(\\tau - t) \\, g(\\tau) \\, d\\tau.\n",
    "\\end{align}\n",
    "\n",
    "In the discrete case:\n",
    "\\begin{align}\n",
    "C_{fg}[n] = (f \\star g)[n] = \\sum_{m=0}^{N-1} f_m^* \\, g_{m + n}.\n",
    "\\end{align}\n",
    "\n",
    "Correlation computes the similarity between $f$ and a shifted version of $g$ (without reversal), accounting for complex conjugation in the case of complex-valued functions.\n",
    "\n",
    "* Both operations involve integrating (or summing) the product of one function with a shifted version of another.\n",
    "* Convolution reverses one of the functions before shifting (i.e., $g(t - \\tau)$), while correlation does not (i.e., $g(\\tau + t)$).\n",
    "* Both operations reduce to similar forms for real-valued, symmetric functions."
   ]
  },
  {
   "cell_type": "markdown",
   "id": "55",
   "metadata": {},
   "source": [
    "### Convolution and Correlation Theorems\n",
    "\n",
    "The Convolution Theorem states that the Fourier Transform of the convolution of two functions is equal to the product of their individual Fourier Transforms:\n",
    "\\begin{align}\n",
    "\\mathcal{F}\\{ f(t) * g(t) \\} = F(\\omega) \\cdot G(\\omega),\n",
    "\\end{align}\n",
    "where $\\mathcal{F}\\{ \\cdot \\}$ denotes the Fourier Transform and $F(\\omega)$ and $G(\\omega)$ are the Fourier Transforms of $f(t)$ and $g(t)$, respectively.\n",
    "This theorem shows that convolution in the time domain corresponds to multiplication in the frequency domain.\n",
    "\n",
    "The Correlation Theorem states that the Fourier Transform of the cross-correlation of two functions is equal to the product of the Fourier Transform of one function and the complex conjugate of the Fourier Transform of the other:\n",
    "\\begin{align}\n",
    "\\mathcal{F}\\{ f(t) \\star g(t) \\} = F^*(\\omega) \\cdot G(\\omega),\n",
    "\\end{align}\n",
    "where $F^*(\\omega)$ is the complex conjugate of $F(\\omega)$.\n",
    "Similarly, the cross-correlation in the time domain corresponds to the multiplication of the Fourier Transform of one function with the complex conjugate of the Fourier Transform of the other in the frequency domain.\n",
    "\n",
    "The key similarities between the two theorems are:\n",
    "* Both relate an operation in the time domain (convolution or correlation) to multiplication in the frequency domain.\n",
    "* The difference lies in whether or not one of the Fourier Transforms is conjugated:\n",
    "  * Convolution involves the product $F(\\omega) \\cdot G(\\omega)$.\n",
    "  * Correlation involves the product $F^*(\\omega) \\cdot G(\\omega)$.\n",
    "* This reflects the time-reversal aspect of convolution versus the direct comparison in correlation."
   ]
  },
  {
   "cell_type": "markdown",
   "id": "56",
   "metadata": {},
   "source": [
    "### Practical Implications\n",
    "\n",
    "Understanding these theorems allows us to compute convolution and correlation efficiently using FFT.\n",
    "Instead of performing $\\mathcal{O}(N^2)$ operations in the time domain, we can perform the following steps:\n",
    "\n",
    "1. Compute the Fourier Transforms $F(\\omega)$ and $G(\\omega)$ of the signals using the FFT ($\\mathcal{O}(N \\log N)$ operations).\n",
    "2. Perform element-wise multiplication:\n",
    "   * For convolution: Multiply $F(\\omega)$   and $G(\\omega)$.\n",
    "   * For correlation: Multiply $F^*(\\omega)$ and $G(\\omega)$.\n",
    "3. Compute the inverse Fourier Transform of the product to obtain the result in the time domain."
   ]
  },
  {
   "cell_type": "code",
   "execution_count": null,
   "id": "57",
   "metadata": {},
   "outputs": [],
   "source": [
    "N = 64\n",
    "f = np.pad(np.ones(N//2),                            (N//4, N//4), mode='constant')\n",
    "g = np.pad(np.linspace(1,0,endpoint=False,num=N//2), (N//4, N//4), mode='constant')\n",
    "\n",
    "conv1 = np.array([np.sum(f * np.roll(g[::-1], 1+t)) for t in range(len(g))])\n",
    "conv2 = np.array([np.sum(np.roll(f[::-1], 1+t) * g) for t in range(len(f))])\n",
    "conv3 = np.real(ifft(fft(f) * fft(g)))\n",
    "\n",
    "corr1 = np.array([np.sum(f.conj() * np.roll(g, -t)) for t in range(len(g))])\n",
    "corr2 = np.array([np.sum(np.roll(f.conj(),  t) * g) for t in range(len(f))])\n",
    "corr3 = np.real(ifft(fft(f).conj() * fft(g)))"
   ]
  },
  {
   "cell_type": "code",
   "execution_count": null,
   "id": "58",
   "metadata": {},
   "outputs": [],
   "source": [
    "fig, axes = plt.subplots(3,1, figsize=(10, 10))\n",
    "\n",
    "axes[0].plot(f, label='f', linestyle='-',  marker='o', markersize=4)\n",
    "axes[0].plot(g, label='g', linestyle='--', marker='x', markersize=4)\n",
    "axes[0].set_xlabel('n')\n",
    "axes[0].set_ylabel('Amplitude')\n",
    "axes[0].legend()\n",
    "axes[0].grid(True)\n",
    "\n",
    "axes[1].plot(conv1, label='Convolution (Direct Sum, Shift $g$)', linestyle='-',  marker='o', markersize=4)\n",
    "axes[1].plot(conv2, label='Convolution (Direct Sum, Shift $f$)', linestyle='--', marker='x', markersize=4)\n",
    "axes[1].plot(conv3, label='Convolution (FFT)',      linestyle=':',  marker='+', markersize=4)\n",
    "axes[1].set_xlabel('n')\n",
    "axes[1].set_ylabel('Amplitude')\n",
    "axes[1].legend()\n",
    "axes[1].grid(True)\n",
    "\n",
    "axes[2].plot(corr1, label='Convolution (Direct Sum, Shift $g$)', linestyle='-',  marker='o', markersize=4)\n",
    "axes[2].plot(corr2, label='Convolution (Direct Sum, Shift $f$)', linestyle='--', marker='x', markersize=4)\n",
    "axes[2].plot(corr3, label='Convolution (FFT)',                   linestyle=':',  marker='+', markersize=4)\n",
    "axes[2].set_xlabel('n')\n",
    "axes[2].set_ylabel('Amplitude')\n",
    "axes[2].legend()\n",
    "axes[2].grid(True)"
   ]
  },
  {
   "cell_type": "markdown",
   "id": "59",
   "metadata": {},
   "source": [
    "The plots demonstrate that the results obtained via direct computation in the time domain match those obtained using the Fourier Transform in the frequency domain, confirming both the Convolution and Correlation Theorems."
   ]
  },
  {
   "cell_type": "markdown",
   "id": "60",
   "metadata": {},
   "source": [
    "## Parseval's Theorem\n",
    "\n",
    "Parseval's Theorem further connects the time and frequency domains by relating the total energy of a signal in one domain to the total energy in the other.\n",
    "For discrete signals $f_n$, the theorem states:\n",
    "\\begin{align}\n",
    "\\sum_{n=0}^{N-1} |f_n|^2 = \\frac{1}{N} \\sum_{k=0}^{N-1} |F_k|^2,\n",
    "\\end{align}\n",
    "where $F_k$ is the Discrete Fourier Transform (DFT) of $f_n$.\n",
    "\n",
    "Parseval's Theorem implies that the energy (or power) of a signal is preserved between the time and frequency domains.\n",
    "This conservation is essential when analyzing signals, as it assures us that transforming between domains does not introduce or remove energy.\n",
    "\n",
    "In the context of convolution and correlation:\n",
    "* Convolution may spread the signal's energy over a wider range in time, but the total energy remains constant.\n",
    "* Correlation measures the similarity between signals, and Parseval's Theorem ensures that the energy content used in this measurement is consistent between domains.\n",
    "\n",
    "We can verify Parseval's Theorem using the signals from our previous example:"
   ]
  },
  {
   "cell_type": "code",
   "execution_count": null,
   "id": "61",
   "metadata": {},
   "outputs": [],
   "source": [
    "# Compute energies in the time domain\n",
    "E_f = np.sum(np.abs(f) ** 2)\n",
    "E_g = np.sum(np.abs(g) ** 2)\n",
    "\n",
    "# Compute energies in the frequency domain\n",
    "E_F = (1 / len(f)) * np.sum(np.abs(fft(f)) ** 2)\n",
    "E_G = (1 / len(g)) * np.sum(np.abs(fft(g)) ** 2)\n",
    "\n",
    "print(f\"Energy of f[n] in time domain: {E_f}\")\n",
    "print(f\"Energy of f[n] in freq domain: {E_F}\")\n",
    "print(f\"Energy of g[n] in time domain: {E_g}\")\n",
    "print(f\"Energy of g[n] in freq domain: {E_G}\")"
   ]
  },
  {
   "cell_type": "markdown",
   "id": "62",
   "metadata": {},
   "source": [
    "The energies computed in the time and frequency domains are equal (within numerical precision), confirming Parseval's Theorem."
   ]
  },
  {
   "cell_type": "markdown",
   "id": "63",
   "metadata": {},
   "source": [
    "The close relationship between convolution, correlation, and their respective theorems has significant practical implications:\n",
    "* Filter Design: Convolution is used to apply filters to signals, such as smoothing or sharpening filters in image processing.\n",
    "  Understanding the frequency response via the Convolution Theorem helps in designing filters with desired characteristics.\n",
    "* Signal Detection: Correlation is crucial in detecting known patterns or signals within noisy data.\n",
    "  For example, in astrophysics, correlating observed signals with theoretical models helps identify celestial events or objects.\n",
    "* Computational Efficiency: Leveraging the Fourier Transform to compute convolution and correlation reduces computational complexity, enabling the analysis of large datasets common in astrophysics."
   ]
  },
  {
   "cell_type": "markdown",
   "id": "64",
   "metadata": {},
   "source": [
    "## Other Interesting Toipics:\n",
    "\n",
    "* Time-Frequency Analysis\n",
    "* Power Spectrum Estimation Using the FFT (See [Numerical Recipes](https://numerical.recipes/book.html) Section 13.4)\n",
    "* Denoising and Signal Processing Applications\n",
    "* Astrophysical Applications and [VLBI](https://focisrc.github.io/eht-databook/intro/correlation.html)\n",
    "* Calibration Algorithm for ADC Interleaving\n",
    "* [](sec:spectral-derivatives)\n",
    "* Fourier Transform and the Heat Equation (see \"Numerical PDE IV: spectral methods\")"
   ]
  }
 ],
 "metadata": {
  "kernelspec": {
   "display_name": "Python 3",
   "language": "python",
   "name": "python3"
  },
  "language_info": {
   "codemirror_mode": {
    "name": "ipython",
    "version": 3
   },
   "file_extension": ".py",
   "mimetype": "text/x-python",
   "name": "python",
   "nbconvert_exporter": "python",
   "pygments_lexer": "ipython3",
   "version": "3.12.1"
  }
 },
 "nbformat": 4,
 "nbformat_minor": 5
}
